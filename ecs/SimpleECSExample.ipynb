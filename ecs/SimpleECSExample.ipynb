{
 "cells": [
  {
   "cell_type": "code",
   "execution_count": null,
   "metadata": {},
   "outputs": [],
   "source": [
    "from neuron import h, crxd as rxd, gui\n",
    "from matplotlib import pyplot, animation\n",
    "from IPython.display import HTML\n",
    "\n",
    "rxd.options.enable.extracellular = True\n",
    "rxd.nthread(4)"
   ]
  },
  {
   "cell_type": "code",
   "execution_count": null,
   "metadata": {},
   "outputs": [],
   "source": [
    "class Cell:\n",
    "    def __init__(self,filename):\n",
    "        h.load_file('import3d.hoc')\n",
    "        cell = h.Import3d_SWC_read()\n",
    "        cell.input(filename)\n",
    "        h.Import3d_GUI(cell, 0)\n",
    "        i3d = h.Import3d_GUI(cell, 0)\n",
    "        i3d.instantiate(self)\n",
    "        for sec in self.all:\n",
    "            sec.nseg = 1 + 10 * int(sec.L / 5)\n",
    "            sec.insert('steady_k')\n",
    "    def extrema(self):\n",
    "        h.define_shape()\n",
    "        xlo = ylo = zlo = xhi = yhi = zhi = None\n",
    "        for sec in self.all:\n",
    "            n3d = int(h.n3d(sec=sec))\n",
    "            xs = [h.x3d(i, sec=sec) for i in xrange(n3d)]\n",
    "            ys = [h.y3d(i, sec=sec) for i in xrange(n3d)]\n",
    "            zs = [h.z3d(i, sec=sec) for i in xrange(n3d)]\n",
    "            my_xlo, my_ylo, my_zlo = min(xs), min(ys), min(zs)\n",
    "            my_xhi, my_yhi, my_zhi = max(xs), max(ys), max(zs)\n",
    "            if xlo is None:\n",
    "                xlo, ylo, zlo = my_xlo, my_ylo, my_zlo\n",
    "                xhi, yhi, zhi = my_xhi, my_yhi, my_zhi\n",
    "            else:\n",
    "                xlo, ylo, zlo = min(xlo, my_xlo), min(ylo, my_ylo), min(zlo, my_zlo)\n",
    "                xhi, yhi, zhi = max(xhi, my_xhi), max(yhi, my_yhi), max(zhi, my_zhi)\n",
    "        return xlo, ylo, zlo, xhi, yhi, zhi\n",
    "\n"
   ]
  },
  {
   "cell_type": "code",
   "execution_count": null,
   "metadata": {},
   "outputs": [],
   "source": [
    "mycell = Cell('c91662.swc')\n",
    "\n",
    "xlo, ylo, zlo, xhi, yhi, zhi = mycell.extrema()\n",
    "padding = 50\n",
    "ecs = rxd.Extracellular(xlo - padding, \n",
    "                        ylo - padding, \n",
    "                        zlo - padding,\n",
    "                        xhi + padding,\n",
    "                        yhi + padding,\n",
    "                        zhi + padding,\n",
    "                        dx=10)\n",
    "\n",
    "k = rxd.Species(ecs, d=2.62, name='k', charge=1, initial=0)\n",
    "h.dt = 10"
   ]
  },
  {
   "cell_type": "code",
   "execution_count": null,
   "metadata": {},
   "outputs": [],
   "source": [
    "h.finitialize()\n",
    "fig = pyplot.figure()\n",
    "im = pyplot.imshow(k[ecs].states3d.mean(2),vmin=0,vmax=0.05)\n",
    "pyplot.axis('off')\n",
    "\n",
    "def init():\n",
    "    im.set_data(k[ecs].states3d.mean(2))\n",
    "    return [im]\n",
    "\n",
    "def animate(i):\n",
    "    h.fadvance()\n",
    "    im.set_data(k[ecs].states3d.mean(2))\n",
    "    return [im]\n",
    "\n",
    "anim = animation.FuncAnimation(fig, animate, init_func=init, frames=500, interval=10)\n",
    "HTML(anim.to_html5_video())"
   ]
  },
  {
   "cell_type": "code",
   "execution_count": null,
   "metadata": {},
   "outputs": [],
   "source": []
  },
  {
   "cell_type": "code",
   "execution_count": null,
   "metadata": {},
   "outputs": [],
   "source": []
  }
 ],
 "metadata": {
  "kernelspec": {
   "display_name": "Python 2",
   "language": "python",
   "name": "python2"
  },
  "language_info": {
   "codemirror_mode": {
    "name": "ipython",
    "version": 2
   },
   "file_extension": ".py",
   "mimetype": "text/x-python",
   "name": "python",
   "nbconvert_exporter": "python",
   "pygments_lexer": "ipython2",
   "version": "2.7.14"
  }
 },
 "nbformat": 4,
 "nbformat_minor": 2
}
