{
 "cells": [
  {
   "cell_type": "code",
   "execution_count": null,
   "metadata": {},
   "outputs": [],
   "source": [
    "from neuron import h, gui2\n",
    "gui2.set_backend('jupyter')\n",
    "h.load_file('stdgui.hoc')\n",
    "h.load_file('import3d.hoc')"
   ]
  },
  {
   "cell_type": "code",
   "execution_count": null,
   "metadata": {},
   "outputs": [],
   "source": [
    "class Pyramidal:\n",
    "    def __init__(self):\n",
    "        self.load_morphology()\n",
    "        # do discretization, ion channels, etc here\n",
    "    def load_morphology(self):\n",
    "        cell = h.Import3d_SWC_read()\n",
    "        cell.input('c91662.swc')\n",
    "        i3d = h.Import3d_GUI(cell, 0)\n",
    "        i3d.instantiate(self)"
   ]
  },
  {
   "cell_type": "code",
   "execution_count": null,
   "metadata": {},
   "outputs": [],
   "source": [
    "mypyrs = [Pyramidal() for i in range(10)]"
   ]
  },
  {
   "cell_type": "code",
   "execution_count": null,
   "metadata": {},
   "outputs": [],
   "source": [
    "ps = gui2.PlotShape()"
   ]
  },
  {
   "cell_type": "code",
   "execution_count": null,
   "metadata": {},
   "outputs": [],
   "source": []
  }
 ],
 "metadata": {
  "kernelspec": {
   "display_name": "Python 3",
   "language": "python",
   "name": "python3"
  },
  "language_info": {
   "codemirror_mode": {
    "name": "ipython",
    "version": 3
   },
   "file_extension": ".py",
   "mimetype": "text/x-python",
   "name": "python",
   "nbconvert_exporter": "python",
   "pygments_lexer": "ipython3",
   "version": "3.6.4"
  }
 },
 "nbformat": 4,
 "nbformat_minor": 2
}
